{
 "cells": [
  {
   "cell_type": "code",
   "execution_count": 1,
   "metadata": {},
   "outputs": [
    {
     "name": "stdout",
     "output_type": "stream",
     "text": [
      "Collecting nltk\n",
      "  Downloading nltk-3.8.1-py3-none-any.whl.metadata (2.8 kB)\n",
      "Requirement already satisfied: click in c:\\users\\sarthak mohapatra\\anaconda3\\envs\\sarthak\\lib\\site-packages (from nltk) (8.1.7)\n",
      "Requirement already satisfied: joblib in c:\\users\\sarthak mohapatra\\anaconda3\\envs\\sarthak\\lib\\site-packages (from nltk) (1.3.2)\n",
      "Collecting regex>=2021.8.3 (from nltk)\n",
      "  Downloading regex-2023.12.25-cp311-cp311-win_amd64.whl.metadata (41 kB)\n",
      "     ---------------------------------------- 0.0/42.0 kB ? eta -:--:--\n",
      "     -------------------------------------  41.0/42.0 kB 991.0 kB/s eta 0:00:01\n",
      "     ---------------------------------------- 42.0/42.0 kB 1.0 MB/s eta 0:00:00\n",
      "Collecting tqdm (from nltk)\n",
      "  Downloading tqdm-4.66.2-py3-none-any.whl.metadata (57 kB)\n",
      "     ---------------------------------------- 0.0/57.6 kB ? eta -:--:--\n",
      "     ---------------------------------------- 57.6/57.6 kB 3.0 MB/s eta 0:00:00\n",
      "Requirement already satisfied: colorama in c:\\users\\sarthak mohapatra\\anaconda3\\envs\\sarthak\\lib\\site-packages (from click->nltk) (0.4.6)\n",
      "Downloading nltk-3.8.1-py3-none-any.whl (1.5 MB)\n",
      "   ---------------------------------------- 0.0/1.5 MB ? eta -:--:--\n",
      "   ----- ---------------------------------- 0.2/1.5 MB 6.3 MB/s eta 0:00:01\n",
      "   -------- ------------------------------- 0.3/1.5 MB 3.9 MB/s eta 0:00:01\n",
      "   ---------- ----------------------------- 0.4/1.5 MB 2.9 MB/s eta 0:00:01\n",
      "   ------------- -------------------------- 0.5/1.5 MB 2.7 MB/s eta 0:00:01\n",
      "   ---------------- ----------------------- 0.6/1.5 MB 2.8 MB/s eta 0:00:01\n",
      "   ------------------ --------------------- 0.7/1.5 MB 2.8 MB/s eta 0:00:01\n",
      "   -------------------- ------------------- 0.8/1.5 MB 2.3 MB/s eta 0:00:01\n",
      "   --------------------- ------------------ 0.8/1.5 MB 2.3 MB/s eta 0:00:01\n",
      "   ---------------------- ----------------- 0.8/1.5 MB 2.1 MB/s eta 0:00:01\n",
      "   ----------------------- ---------------- 0.9/1.5 MB 1.9 MB/s eta 0:00:01\n",
      "   ------------------------ --------------- 0.9/1.5 MB 1.8 MB/s eta 0:00:01\n",
      "   ------------------------- -------------- 1.0/1.5 MB 1.8 MB/s eta 0:00:01\n",
      "   -------------------------- ------------- 1.0/1.5 MB 1.7 MB/s eta 0:00:01\n",
      "   -------------------------- ------------- 1.0/1.5 MB 1.7 MB/s eta 0:00:01\n",
      "   -------------------------- ------------- 1.0/1.5 MB 1.5 MB/s eta 0:00:01\n",
      "   --------------------------- ------------ 1.0/1.5 MB 1.4 MB/s eta 0:00:01\n",
      "   --------------------------- ------------ 1.0/1.5 MB 1.3 MB/s eta 0:00:01\n",
      "   ---------------------------- ----------- 1.1/1.5 MB 1.3 MB/s eta 0:00:01\n",
      "   ----------------------------- ---------- 1.1/1.5 MB 1.2 MB/s eta 0:00:01\n",
      "   ----------------------------- ---------- 1.1/1.5 MB 1.2 MB/s eta 0:00:01\n",
      "   ------------------------------ --------- 1.2/1.5 MB 1.2 MB/s eta 0:00:01\n",
      "   ------------------------------- -------- 1.2/1.5 MB 1.2 MB/s eta 0:00:01\n",
      "   -------------------------------- ------- 1.2/1.5 MB 1.2 MB/s eta 0:00:01\n",
      "   ---------------------------------- ----- 1.3/1.5 MB 1.2 MB/s eta 0:00:01\n",
      "   ------------------------------------- -- 1.4/1.5 MB 1.2 MB/s eta 0:00:01\n",
      "   ---------------------------------------- 1.5/1.5 MB 1.2 MB/s eta 0:00:00\n",
      "Downloading regex-2023.12.25-cp311-cp311-win_amd64.whl (269 kB)\n",
      "   ---------------------------------------- 0.0/269.5 kB ? eta -:--:--\n",
      "   ------------- -------------------------- 92.2/269.5 kB 2.6 MB/s eta 0:00:01\n",
      "   ---------------------------------------- 269.5/269.5 kB 3.3 MB/s eta 0:00:00\n",
      "Downloading tqdm-4.66.2-py3-none-any.whl (78 kB)\n",
      "   ---------------------------------------- 0.0/78.3 kB ? eta -:--:--\n",
      "   ---------------------------------------- 78.3/78.3 kB 4.3 MB/s eta 0:00:00\n",
      "Installing collected packages: tqdm, regex, nltk\n",
      "Successfully installed nltk-3.8.1 regex-2023.12.25 tqdm-4.66.2\n",
      "Note: you may need to restart the kernel to use updated packages.\n"
     ]
    }
   ],
   "source": [
    "pip install nltk"
   ]
  },
  {
   "cell_type": "code",
   "execution_count": 19,
   "metadata": {},
   "outputs": [],
   "source": [
    "import nltk\n",
    "from nltk.corpus import brown\n",
    "#nltk.download()"
   ]
  },
  {
   "cell_type": "code",
   "execution_count": 20,
   "metadata": {},
   "outputs": [
    {
     "data": {
      "text/plain": [
       "\"He certainly didn't want a wife who was fickle as Ann .\""
      ]
     },
     "execution_count": 20,
     "metadata": {},
     "output_type": "execute_result"
    }
   ],
   "source": [
    "data=brown.sents(categories='adventure')\n",
    "data[1]\n",
    "' '.join(data[2])"
   ]
  },
  {
   "cell_type": "code",
   "execution_count": 21,
   "metadata": {},
   "outputs": [],
   "source": [
    "#tokenisation\n",
    "document= \"\"\" It wa sa very plesant day. The weather was cooland there were light showers. i went to the market to buy some fruits.\"\"\"\n",
    "sentence= \"\"\"Send all 50 documents related to chapters 1,2,3 atsartha@gmail\"\"\""
   ]
  },
  {
   "cell_type": "code",
   "execution_count": 22,
   "metadata": {},
   "outputs": [
    {
     "name": "stdout",
     "output_type": "stream",
     "text": [
      "[' It wa sa very plesant day.', 'The weather was cooland there were light showers.', 'i went to the market to buy some fruits.']\n",
      "['Send', 'all', '50', 'documents', 'related', 'to', 'chapters', '1,2,3', 'atsartha', '@', 'gmail']\n"
     ]
    }
   ],
   "source": [
    "from nltk.tokenize import sent_tokenize,word_tokenize\n",
    "sent=sent_tokenize(document)\n",
    "print(sent)\n",
    "word=word_tokenize(sentence)\n",
    "print(word)"
   ]
  },
  {
   "cell_type": "code",
   "execution_count": 23,
   "metadata": {},
   "outputs": [
    {
     "name": "stdout",
     "output_type": "stream",
     "text": [
      "{'does', 'ain', 'but', 'no', 'did', 'until', 'm', 'yourselves', 'each', 'our', 'has', 'after', 'have', 'which', 'itself', 'doesn', 'it', 'was', 'them', 'o', \"shan't\", 'who', 'this', 'mightn', 'not', 'how', 'against', \"doesn't\", 'hasn', 'its', \"wasn't\", \"that'll\", 'most', 'what', 'his', 'a', 'own', 'their', 'between', 'me', 'hers', 'at', 've', \"weren't\", 'll', 'there', \"wouldn't\", 'with', 'of', \"you'd\", 'mustn', 'through', 'below', 'can', 'just', 'off', 'both', 'were', 'above', 'for', 'ours', 'been', 'doing', 'didn', 'any', 'having', 'she', 'to', 'before', 'shan', \"she's\", \"you're\", \"don't\", \"hadn't\", 'these', 'over', \"couldn't\", 'here', 'hadn', 'theirs', 'don', \"you'll\", 'whom', 'further', 'they', 'in', 'and', \"it's\", 'because', 'while', \"you've\", 'i', 'by', 'so', 'or', \"aren't\", 'couldn', 'needn', 'again', 'why', 'my', 'nor', 'more', 're', 'from', 'being', 'had', 'y', 'wasn', 'won', \"didn't\", 'yours', 'themselves', 'about', 'her', 'than', 'if', 'such', 'is', 'then', 'on', 'all', 'too', \"should've\", 't', \"needn't\", \"isn't\", 'herself', 'wouldn', 'the', 'ourselves', 'during', 'shouldn', 'd', 's', 'you', 'himself', 'once', \"won't\", 'same', 'will', 'he', 'myself', 'into', 'only', 'haven', \"mustn't\", \"shouldn't\", 'some', 'now', 'very', 'isn', 'under', 'yourself', 'be', 'when', 'weren', 'other', 'am', \"hasn't\", 'that', 'ma', 'are', 'out', 'him', 'aren', \"mightn't\", 'your', \"haven't\", 'those', 'we', 'should', 'where', 'as', 'down', 'do', 'up', 'few', 'an'}\n"
     ]
    }
   ],
   "source": [
    "#stopword\n",
    "from nltk.corpus import stopwords\n",
    "sw=set(stopwords.words('english'))\n",
    "print(sw)"
   ]
  },
  {
   "cell_type": "code",
   "execution_count": 24,
   "metadata": {},
   "outputs": [],
   "source": [
    "def remove_stopword(text,stopwords):\n",
    "    useful_word=[w for w in text if w!=stopwords]\n",
    "    return useful_word"
   ]
  },
  {
   "cell_type": "code",
   "execution_count": 25,
   "metadata": {},
   "outputs": [
    {
     "name": "stdout",
     "output_type": "stream",
     "text": [
      "[' ', 'i', ' ', 'a', 'm', ' ', 'n', 'o', 't', ' ', 'a', ' ', 'g', 'o', 'o', 'd', ' ', 'b', 'o', 'i', '.', ' ', 'i', ' ', 'a', 'm', ' ', 'b', 'a', 'd', ' ', 'b', 'a', 'd', ' ', 'b', 'o', 'i', '.']\n"
     ]
    }
   ],
   "source": [
    "text=\"\"\" i am not a good boi. i am bad bad boi.\"\"\"\n",
    "re=remove_stopword(text,sw)\n",
    "print(re)"
   ]
  },
  {
   "cell_type": "code",
   "execution_count": 26,
   "metadata": {},
   "outputs": [
    {
     "name": "stdout",
     "output_type": "stream",
     "text": [
      "['Send', 'all', 'documents', 'related', 'to', 'chapters', 'atsartha', 'gmail']\n"
     ]
    }
   ],
   "source": [
    "#custom tokenize\n",
    "from nltk.tokenize import RegexpTokenizer\n",
    "tokeniser=RegexpTokenizer('[a-zA-Z]+')\n",
    "useful=tokeniser.tokenize(sentence)\n",
    "print(useful)"
   ]
  },
  {
   "cell_type": "code",
   "execution_count": 27,
   "metadata": {},
   "outputs": [],
   "source": [
    "text=\"\"\"foxes love to make jump. the quick brwon fox is quicker than you entire bloddline.\"\"\""
   ]
  },
  {
   "cell_type": "code",
   "execution_count": 28,
   "metadata": {},
   "outputs": [],
   "source": [
    "# stemmer= porter,snowball,lancaster\n",
    "from nltk.stem.snowball import SnowballStemmer,PorterStemmer\n",
    "from nltk.stem.lancaster import LancasterStemmer"
   ]
  },
  {
   "cell_type": "code",
   "execution_count": 29,
   "metadata": {},
   "outputs": [
    {
     "data": {
      "text/plain": [
       "'run'"
      ]
     },
     "execution_count": 29,
     "metadata": {},
     "output_type": "execute_result"
    }
   ],
   "source": [
    "ps=PorterStemmer()\n",
    "ps.stem('running')"
   ]
  },
  {
   "cell_type": "code",
   "execution_count": 30,
   "metadata": {},
   "outputs": [
    {
     "ename": "AttributeError",
     "evalue": "'list' object has no attribute 'lower'",
     "output_type": "error",
     "traceback": [
      "\u001b[1;31m---------------------------------------------------------------------------\u001b[0m",
      "\u001b[1;31mAttributeError\u001b[0m                            Traceback (most recent call last)",
      "Cell \u001b[1;32mIn[30], line 3\u001b[0m\n\u001b[0;32m      1\u001b[0m ss\u001b[38;5;241m=\u001b[39mSnowballStemmer(\u001b[38;5;124m'\u001b[39m\u001b[38;5;124menglish\u001b[39m\u001b[38;5;124m'\u001b[39m)\n\u001b[0;32m      2\u001b[0m ss\u001b[38;5;241m.\u001b[39mstem(\u001b[38;5;124m'\u001b[39m\u001b[38;5;124msmarting\u001b[39m\u001b[38;5;124m'\u001b[39m)\n\u001b[1;32m----> 3\u001b[0m ss\u001b[38;5;241m.\u001b[39mstem(useful)\n",
      "File \u001b[1;32mc:\\Users\\sarthak mohapatra\\anaconda3\\Lib\\site-packages\\nltk\\stem\\snowball.py:1417\u001b[0m, in \u001b[0;36mEnglishStemmer.stem\u001b[1;34m(self, word)\u001b[0m\n\u001b[0;32m   1406\u001b[0m \u001b[38;5;28;01mdef\u001b[39;00m \u001b[38;5;21mstem\u001b[39m(\u001b[38;5;28mself\u001b[39m, word):\n\u001b[0;32m   1408\u001b[0m \u001b[38;5;250m    \u001b[39m\u001b[38;5;124;03m\"\"\"\u001b[39;00m\n\u001b[0;32m   1409\u001b[0m \u001b[38;5;124;03m    Stem an English word and return the stemmed form.\u001b[39;00m\n\u001b[0;32m   1410\u001b[0m \n\u001b[1;32m   (...)\u001b[0m\n\u001b[0;32m   1415\u001b[0m \n\u001b[0;32m   1416\u001b[0m \u001b[38;5;124;03m    \"\"\"\u001b[39;00m\n\u001b[1;32m-> 1417\u001b[0m     word \u001b[38;5;241m=\u001b[39m word\u001b[38;5;241m.\u001b[39mlower()\n\u001b[0;32m   1419\u001b[0m     \u001b[38;5;28;01mif\u001b[39;00m word \u001b[38;5;129;01min\u001b[39;00m \u001b[38;5;28mself\u001b[39m\u001b[38;5;241m.\u001b[39mstopwords \u001b[38;5;129;01mor\u001b[39;00m \u001b[38;5;28mlen\u001b[39m(word) \u001b[38;5;241m<\u001b[39m\u001b[38;5;241m=\u001b[39m \u001b[38;5;241m2\u001b[39m:\n\u001b[0;32m   1420\u001b[0m         \u001b[38;5;28;01mreturn\u001b[39;00m word\n",
      "\u001b[1;31mAttributeError\u001b[0m: 'list' object has no attribute 'lower'"
     ]
    }
   ],
   "source": [
    "ss=SnowballStemmer('english')\n",
    "ss.stem('smarting')\n",
    "ss.stem(useful)"
   ]
  },
  {
   "cell_type": "code",
   "execution_count": 32,
   "metadata": {},
   "outputs": [
    {
     "data": {
      "text/plain": [
       "'swimming'"
      ]
     },
     "execution_count": 32,
     "metadata": {},
     "output_type": "execute_result"
    }
   ],
   "source": [
    "from nltk.stem import WordNetLemmatizer\n",
    "wn=WordNetLemmatizer()\n",
    "wn.lemmatize('swimming')"
   ]
  },
  {
   "cell_type": "code",
   "execution_count": 31,
   "metadata": {},
   "outputs": [],
   "source": [
    "corpus=[\n",
    "    'Indian cricket is good.'\n",
    "    'The government be winning the elecetion'\n",
    "    'the noble person won the hearts of many'\n",
    "    'The movie ddlj is a nice one'\n",
    "]"
   ]
  },
  {
   "cell_type": "code",
   "execution_count": 43,
   "metadata": {},
   "outputs": [
    {
     "name": "stderr",
     "output_type": "stream",
     "text": [
      "c:\\Users\\sarthak mohapatra\\anaconda3\\Lib\\site-packages\\sklearn\\feature_extraction\\text.py:528: UserWarning: The parameter 'token_pattern' will not be used since 'tokenizer' is not None'\n",
      "  warnings.warn(\n"
     ]
    },
    {
     "data": {
      "text/plain": [
       "{'i': 10,\n",
       " 'n': 15,\n",
       " 'd': 5,\n",
       " 'a': 2,\n",
       " ' ': 0,\n",
       " 'c': 4,\n",
       " 'r': 18,\n",
       " 'k': 12,\n",
       " 'e': 6,\n",
       " 't': 20,\n",
       " 's': 19,\n",
       " 'g': 8,\n",
       " 'o': 16,\n",
       " '.': 1,\n",
       " 'h': 9,\n",
       " 'v': 21,\n",
       " 'm': 14,\n",
       " 'b': 3,\n",
       " 'w': 22,\n",
       " 'l': 13,\n",
       " 'p': 17,\n",
       " 'f': 7,\n",
       " 'y': 23,\n",
       " 'j': 11}"
      ]
     },
     "execution_count": 43,
     "metadata": {},
     "output_type": "execute_result"
    }
   ],
   "source": [
    "from sklearn.feature_extraction.text import CountVectorizer\n",
    "def my(corpus):\n",
    "    word=remove_stopword(corpus,sw)\n",
    "    return word\n",
    "cv=CountVectorizer(tokenizer=my)\n",
    "vector=cv.fit_transform(corpus)\n",
    "vector=vector.toarray()\n",
    "vector\n",
    "cv.vocabulary_"
   ]
  },
  {
   "cell_type": "code",
   "execution_count": 39,
   "metadata": {},
   "outputs": [
    {
     "data": {
      "text/plain": [
       "[array(['be', 'cricket', 'ddlj', 'elecetionthe', 'good', 'government',\n",
       "        'hearts', 'indian', 'is', 'manythe', 'movie', 'nice', 'noble',\n",
       "        'of', 'one', 'person', 'the', 'winning', 'won'], dtype='<U12')]"
      ]
     },
     "execution_count": 39,
     "metadata": {},
     "output_type": "execute_result"
    }
   ],
   "source": [
    " # to convert numbers to word\n",
    "num=vector\n",
    "cv.inverse_transform(num)"
   ]
  },
  {
   "cell_type": "code",
   "execution_count": null,
   "metadata": {},
   "outputs": [],
   "source": []
  },
  {
   "cell_type": "code",
   "execution_count": null,
   "metadata": {},
   "outputs": [],
   "source": []
  },
  {
   "cell_type": "code",
   "execution_count": null,
   "metadata": {},
   "outputs": [],
   "source": []
  },
  {
   "cell_type": "code",
   "execution_count": null,
   "metadata": {},
   "outputs": [],
   "source": []
  },
  {
   "cell_type": "code",
   "execution_count": null,
   "metadata": {},
   "outputs": [],
   "source": []
  },
  {
   "cell_type": "code",
   "execution_count": null,
   "metadata": {},
   "outputs": [],
   "source": []
  },
  {
   "cell_type": "code",
   "execution_count": null,
   "metadata": {},
   "outputs": [],
   "source": []
  },
  {
   "cell_type": "code",
   "execution_count": null,
   "metadata": {},
   "outputs": [],
   "source": []
  },
  {
   "cell_type": "code",
   "execution_count": null,
   "metadata": {},
   "outputs": [],
   "source": []
  },
  {
   "cell_type": "code",
   "execution_count": null,
   "metadata": {},
   "outputs": [],
   "source": []
  }
 ],
 "metadata": {
  "kernelspec": {
   "display_name": "base",
   "language": "python",
   "name": "python3"
  },
  "language_info": {
   "codemirror_mode": {
    "name": "ipython",
    "version": 3
   },
   "file_extension": ".py",
   "mimetype": "text/x-python",
   "name": "python",
   "nbconvert_exporter": "python",
   "pygments_lexer": "ipython3",
   "version": "3.11.8"
  }
 },
 "nbformat": 4,
 "nbformat_minor": 2
}
